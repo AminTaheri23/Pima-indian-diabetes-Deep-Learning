{
 "cells": [
  {
   "cell_type": "markdown",
   "metadata": {},
   "source": [
    "# TODO\n",
    "- ✅ add unblacend class\n",
    "- ⬜ batch norm\n",
    "- ⬜ regularizer\n",
    "- ✅ train/dev/test\n",
    "- ⬜ lr tuner\n",
    "- ✅ add normalizing \n",
    "\n",
    "\n",
    "\n"
   ]
  },
  {
   "cell_type": "code",
   "execution_count": 2,
   "metadata": {
    "_cell_guid": "b1076dfc-b9ad-4769-8c92-a6c4dae69d19",
    "_uuid": "8f2839f25d086af736a60e9eeb907d3b93b6e0e5",
    "scrolled": true
   },
   "outputs": [],
   "source": [
    "# This Python 3 environment comes with many helpful analytics libraries installed\n",
    "# It is defined by the kaggle/python docker image: https://github.com/kaggle/docker-python\n",
    "# For example, here's several helpful packages to load in \n",
    "\n",
    "import numpy as np # linear algebra\n",
    "import pandas as pd # data processing, CSV file I/O (e.g. pd.read_csv)\n",
    "import tensorflow as tf \n",
    "import matplotlib.pyplot as plt\n",
    "import sklearn as sk"
   ]
  },
  {
   "cell_type": "code",
   "execution_count": 3,
   "metadata": {},
   "outputs": [],
   "source": [
    "# Input data files are available in the \"../input/\" directory.\n",
    "# For example, running this (by clicking run or pressing Shift+Enter) will list all files under the input directory\n",
    "\n",
    "# import os\n",
    "# for dirname, _, filenames in os.walk('/kaggle/input'):\n",
    "#     for filename in filenames:\n",
    "#         print(os.path.join(dirname, filename))\n",
    "\n",
    "# Any results you write to the current directory are saved as output."
   ]
  },
  {
   "cell_type": "code",
   "execution_count": 4,
   "metadata": {},
   "outputs": [],
   "source": [
    "%matplotlib inline\n",
    "import seaborn as sns\n",
    "import warnings\n",
    "warnings.simplefilter('ignore')\n",
    "sns.set(rc={'figure.figsize' : (10, 5)})\n",
    "sns.set_style(\"darkgrid\", {'axes.grid' : True})"
   ]
  },
  {
   "cell_type": "markdown",
   "metadata": {},
   "source": [
    "Reading csv files and showing first and last 5 records. "
   ]
  },
  {
   "cell_type": "code",
   "execution_count": 5,
   "metadata": {
    "_cell_guid": "79c7e3d0-c299-4dcb-8224-4455121ee9b0",
    "_uuid": "d629ff2d2480ee46fbb7e2d37f6b5fab8052498a",
    "scrolled": true
   },
   "outputs": [],
   "source": [
    "diabetes = pd.read_csv('diabetes.csv')\n",
    "dia = diabetes.copy()"
   ]
  },
  {
   "cell_type": "code",
   "execution_count": 136,
   "metadata": {
    "scrolled": true
   },
   "outputs": [
    {
     "data": {
      "text/html": [
       "<div>\n",
       "<style scoped>\n",
       "    .dataframe tbody tr th:only-of-type {\n",
       "        vertical-align: middle;\n",
       "    }\n",
       "\n",
       "    .dataframe tbody tr th {\n",
       "        vertical-align: top;\n",
       "    }\n",
       "\n",
       "    .dataframe thead th {\n",
       "        text-align: right;\n",
       "    }\n",
       "</style>\n",
       "<table border=\"1\" class=\"dataframe\">\n",
       "  <thead>\n",
       "    <tr style=\"text-align: right;\">\n",
       "      <th></th>\n",
       "      <th>count</th>\n",
       "      <th>mean</th>\n",
       "      <th>std</th>\n",
       "      <th>min</th>\n",
       "      <th>25%</th>\n",
       "      <th>50%</th>\n",
       "      <th>75%</th>\n",
       "      <th>max</th>\n",
       "    </tr>\n",
       "  </thead>\n",
       "  <tbody>\n",
       "    <tr>\n",
       "      <th>Pregnancies</th>\n",
       "      <td>768.0</td>\n",
       "      <td>3.845052</td>\n",
       "      <td>3.369578</td>\n",
       "      <td>0.000</td>\n",
       "      <td>1.00000</td>\n",
       "      <td>3.0000</td>\n",
       "      <td>6.00000</td>\n",
       "      <td>17.00</td>\n",
       "    </tr>\n",
       "    <tr>\n",
       "      <th>Glucose</th>\n",
       "      <td>768.0</td>\n",
       "      <td>120.894531</td>\n",
       "      <td>31.972618</td>\n",
       "      <td>0.000</td>\n",
       "      <td>99.00000</td>\n",
       "      <td>117.0000</td>\n",
       "      <td>140.25000</td>\n",
       "      <td>199.00</td>\n",
       "    </tr>\n",
       "    <tr>\n",
       "      <th>BloodPressure</th>\n",
       "      <td>768.0</td>\n",
       "      <td>69.105469</td>\n",
       "      <td>19.355807</td>\n",
       "      <td>0.000</td>\n",
       "      <td>62.00000</td>\n",
       "      <td>72.0000</td>\n",
       "      <td>80.00000</td>\n",
       "      <td>122.00</td>\n",
       "    </tr>\n",
       "    <tr>\n",
       "      <th>SkinThickness</th>\n",
       "      <td>768.0</td>\n",
       "      <td>20.536458</td>\n",
       "      <td>15.952218</td>\n",
       "      <td>0.000</td>\n",
       "      <td>0.00000</td>\n",
       "      <td>23.0000</td>\n",
       "      <td>32.00000</td>\n",
       "      <td>99.00</td>\n",
       "    </tr>\n",
       "    <tr>\n",
       "      <th>Insulin</th>\n",
       "      <td>768.0</td>\n",
       "      <td>79.799479</td>\n",
       "      <td>115.244002</td>\n",
       "      <td>0.000</td>\n",
       "      <td>0.00000</td>\n",
       "      <td>30.5000</td>\n",
       "      <td>127.25000</td>\n",
       "      <td>846.00</td>\n",
       "    </tr>\n",
       "    <tr>\n",
       "      <th>BMI</th>\n",
       "      <td>768.0</td>\n",
       "      <td>31.992578</td>\n",
       "      <td>7.884160</td>\n",
       "      <td>0.000</td>\n",
       "      <td>27.30000</td>\n",
       "      <td>32.0000</td>\n",
       "      <td>36.60000</td>\n",
       "      <td>67.10</td>\n",
       "    </tr>\n",
       "    <tr>\n",
       "      <th>DiabetesPedigreeFunction</th>\n",
       "      <td>768.0</td>\n",
       "      <td>0.471876</td>\n",
       "      <td>0.331329</td>\n",
       "      <td>0.078</td>\n",
       "      <td>0.24375</td>\n",
       "      <td>0.3725</td>\n",
       "      <td>0.62625</td>\n",
       "      <td>2.42</td>\n",
       "    </tr>\n",
       "    <tr>\n",
       "      <th>Age</th>\n",
       "      <td>768.0</td>\n",
       "      <td>33.240885</td>\n",
       "      <td>11.760232</td>\n",
       "      <td>21.000</td>\n",
       "      <td>24.00000</td>\n",
       "      <td>29.0000</td>\n",
       "      <td>41.00000</td>\n",
       "      <td>81.00</td>\n",
       "    </tr>\n",
       "    <tr>\n",
       "      <th>Outcome</th>\n",
       "      <td>768.0</td>\n",
       "      <td>0.348958</td>\n",
       "      <td>0.476951</td>\n",
       "      <td>0.000</td>\n",
       "      <td>0.00000</td>\n",
       "      <td>0.0000</td>\n",
       "      <td>1.00000</td>\n",
       "      <td>1.00</td>\n",
       "    </tr>\n",
       "  </tbody>\n",
       "</table>\n",
       "</div>"
      ],
      "text/plain": [
       "                          count        mean         std     min       25%  \\\n",
       "Pregnancies               768.0    3.845052    3.369578   0.000   1.00000   \n",
       "Glucose                   768.0  120.894531   31.972618   0.000  99.00000   \n",
       "BloodPressure             768.0   69.105469   19.355807   0.000  62.00000   \n",
       "SkinThickness             768.0   20.536458   15.952218   0.000   0.00000   \n",
       "Insulin                   768.0   79.799479  115.244002   0.000   0.00000   \n",
       "BMI                       768.0   31.992578    7.884160   0.000  27.30000   \n",
       "DiabetesPedigreeFunction  768.0    0.471876    0.331329   0.078   0.24375   \n",
       "Age                       768.0   33.240885   11.760232  21.000  24.00000   \n",
       "Outcome                   768.0    0.348958    0.476951   0.000   0.00000   \n",
       "\n",
       "                               50%        75%     max  \n",
       "Pregnancies                 3.0000    6.00000   17.00  \n",
       "Glucose                   117.0000  140.25000  199.00  \n",
       "BloodPressure              72.0000   80.00000  122.00  \n",
       "SkinThickness              23.0000   32.00000   99.00  \n",
       "Insulin                    30.5000  127.25000  846.00  \n",
       "BMI                        32.0000   36.60000   67.10  \n",
       "DiabetesPedigreeFunction    0.3725    0.62625    2.42  \n",
       "Age                        29.0000   41.00000   81.00  \n",
       "Outcome                     0.0000    1.00000    1.00  "
      ]
     },
     "execution_count": 136,
     "metadata": {},
     "output_type": "execute_result"
    }
   ],
   "source": [
    "diabetes.describe().T"
   ]
  },
  {
   "cell_type": "code",
   "execution_count": 7,
   "metadata": {},
   "outputs": [],
   "source": [
    "# diabetes.Pregnancies = diabetes.Pregnancies.replace(0,333)\n",
    "# diabetes.Outcome = diabetes.Outcome.replace(0,333)\n",
    "# diabetes\n",
    "\n",
    "# diabetes = diabetes.replace(0, np.nan)\n",
    "# diabetes = diabetes.dropna()\n",
    "# # df = df.replace(np.nan, 0.0)\n",
    "\n",
    "# diabetes.Pregnancies = diabetes.Pregnancies.replace(333,0)\n",
    "# diabetes.Outcome = diabetes.Outcome.replace(333,0)\n",
    "# diabetes"
   ]
  },
  {
   "cell_type": "code",
   "execution_count": 8,
   "metadata": {},
   "outputs": [
    {
     "data": {
      "image/png": "[encoded data removed]",
      "text/plain": [
       "<Figure size 720x360 with 2 Axes>"
      ]
     },
     "metadata": {},
     "output_type": "display_data"
    }
   ],
   "source": [
    "corrMatrix = diabetes.corr()\n",
    "sns.heatmap(corrMatrix, annot=True)\n",
    "plt.show()"
   ]
  },
  {
   "cell_type": "code",
   "execution_count": 9,
   "metadata": {
    "scrolled": true
   },
   "outputs": [],
   "source": [
    "from sklearn.dummy import DummyClassifier\n",
    "x = diabetes.drop(columns = 'Outcome')\n",
    "y = diabetes['Outcome']"
   ]
  },
  {
   "cell_type": "code",
   "execution_count": 10,
   "metadata": {},
   "outputs": [
    {
     "data": {
      "text/html": [
       "<div>\n",
       "<style scoped>\n",
       "    .dataframe tbody tr th:only-of-type {\n",
       "        vertical-align: middle;\n",
       "    }\n",
       "\n",
       "    .dataframe tbody tr th {\n",
       "        vertical-align: top;\n",
       "    }\n",
       "\n",
       "    .dataframe thead th {\n",
       "        text-align: right;\n",
       "    }\n",
       "</style>\n",
       "<table border=\"1\" class=\"dataframe\">\n",
       "  <thead>\n",
       "    <tr style=\"text-align: right;\">\n",
       "      <th></th>\n",
       "      <th>Pregnancies</th>\n",
       "      <th>Glucose</th>\n",
       "      <th>BloodPressure</th>\n",
       "      <th>SkinThickness</th>\n",
       "      <th>Insulin</th>\n",
       "      <th>BMI</th>\n",
       "      <th>DiabetesPedigreeFunction</th>\n",
       "      <th>Age</th>\n",
       "    </tr>\n",
       "  </thead>\n",
       "  <tbody>\n",
       "    <tr>\n",
       "      <th>0</th>\n",
       "      <td>6</td>\n",
       "      <td>148</td>\n",
       "      <td>72</td>\n",
       "      <td>35</td>\n",
       "      <td>0</td>\n",
       "      <td>33.6</td>\n",
       "      <td>0.627</td>\n",
       "      <td>50</td>\n",
       "    </tr>\n",
       "    <tr>\n",
       "      <th>1</th>\n",
       "      <td>1</td>\n",
       "      <td>85</td>\n",
       "      <td>66</td>\n",
       "      <td>29</td>\n",
       "      <td>0</td>\n",
       "      <td>26.6</td>\n",
       "      <td>0.351</td>\n",
       "      <td>31</td>\n",
       "    </tr>\n",
       "    <tr>\n",
       "      <th>2</th>\n",
       "      <td>8</td>\n",
       "      <td>183</td>\n",
       "      <td>64</td>\n",
       "      <td>0</td>\n",
       "      <td>0</td>\n",
       "      <td>23.3</td>\n",
       "      <td>0.672</td>\n",
       "      <td>32</td>\n",
       "    </tr>\n",
       "    <tr>\n",
       "      <th>3</th>\n",
       "      <td>1</td>\n",
       "      <td>89</td>\n",
       "      <td>66</td>\n",
       "      <td>23</td>\n",
       "      <td>94</td>\n",
       "      <td>28.1</td>\n",
       "      <td>0.167</td>\n",
       "      <td>21</td>\n",
       "    </tr>\n",
       "    <tr>\n",
       "      <th>4</th>\n",
       "      <td>0</td>\n",
       "      <td>137</td>\n",
       "      <td>40</td>\n",
       "      <td>35</td>\n",
       "      <td>168</td>\n",
       "      <td>43.1</td>\n",
       "      <td>2.288</td>\n",
       "      <td>33</td>\n",
       "    </tr>\n",
       "  </tbody>\n",
       "</table>\n",
       "</div>"
      ],
      "text/plain": [
       "   Pregnancies  Glucose  BloodPressure  SkinThickness  Insulin   BMI  \\\n",
       "0            6      148             72             35        0  33.6   \n",
       "1            1       85             66             29        0  26.6   \n",
       "2            8      183             64              0        0  23.3   \n",
       "3            1       89             66             23       94  28.1   \n",
       "4            0      137             40             35      168  43.1   \n",
       "\n",
       "   DiabetesPedigreeFunction  Age  \n",
       "0                     0.627   50  \n",
       "1                     0.351   31  \n",
       "2                     0.672   32  \n",
       "3                     0.167   21  \n",
       "4                     2.288   33  "
      ]
     },
     "execution_count": 10,
     "metadata": {},
     "output_type": "execute_result"
    }
   ],
   "source": [
    "x.head()"
   ]
  },
  {
   "cell_type": "code",
   "execution_count": 11,
   "metadata": {},
   "outputs": [
    {
     "data": {
      "text/plain": [
       "0    1\n",
       "1    0\n",
       "2    1\n",
       "3    0\n",
       "4    1\n",
       "Name: Outcome, dtype: int64"
      ]
     },
     "execution_count": 11,
     "metadata": {},
     "output_type": "execute_result"
    }
   ],
   "source": [
    "y.head()"
   ]
  },
  {
   "cell_type": "code",
   "execution_count": 12,
   "metadata": {},
   "outputs": [
    {
     "data": {
      "text/plain": [
       "0.6510416666666666"
      ]
     },
     "execution_count": 12,
     "metadata": {},
     "output_type": "execute_result"
    }
   ],
   "source": [
    "dummy = DummyClassifier('most_frequent') #returining most frequent class in this case 1/\n",
    "results = dummy.fit(x,y)\n",
    "results.score(x,y)"
   ]
  },
  {
   "cell_type": "code",
   "execution_count": 13,
   "metadata": {},
   "outputs": [
    {
     "data": {
      "text/plain": [
       "376"
      ]
     },
     "execution_count": 13,
     "metadata": {},
     "output_type": "execute_result"
    }
   ],
   "source": [
    "len( # Number of recrds that have at least one zero in it\n",
    "    x[(x.Glucose == 0) |\n",
    "    (x.BloodPressure ==0) |\n",
    "    (x.SkinThickness==0) |\n",
    "    (x.Insulin==0) |\n",
    "    (x.BMI==0) |\n",
    "    (x.DiabetesPedigreeFunction==0) |\n",
    "    (x.Age==0)]\n",
    ")"
   ]
  },
  {
   "cell_type": "markdown",
   "metadata": {},
   "source": [
    "## Some Funcs"
   ]
  },
  {
   "cell_type": "code",
   "execution_count": 14,
   "metadata": {},
   "outputs": [],
   "source": [
    "from tensorflow import keras\n",
    "import tensorflow.keras.backend as K\n",
    "\n",
    "def get_f1(y_true, y_pred): #taken from old keras source code\n",
    "    true_positives = K.sum(K.round(K.clip(y_true * y_pred, 0, 1)))\n",
    "    possible_positives = K.sum(K.round(K.clip(y_true, 0, 1)))\n",
    "    predicted_positives = K.sum(K.round(K.clip(y_pred, 0, 1)))\n",
    "    precision = true_positives / (predicted_positives + K.epsilon())\n",
    "    recall = true_positives / (possible_positives + K.epsilon())\n",
    "    f1_val = 2*(precision*recall)/(precision+recall+K.epsilon())\n",
    "    return f1_val"
   ]
  },
  {
   "cell_type": "code",
   "execution_count": 15,
   "metadata": {},
   "outputs": [],
   "source": [
    "def max_metric (history):\n",
    "    max_acc = max(history.history['accuracy'])\n",
    "    max_f1 = max(history.history['get_f1'])\n",
    "    min_loss = min(history.history['loss'])\n",
    "    max_val_acc = max(history.history['val_accuracy'])\n",
    "    max_val_f1 = max(history.history['val_get_f1'])\n",
    "    min_val_loss = min(history.history['val_loss'])\n",
    "    print(f\"Maximum Accuracy: {max_acc} \\nMaximum F1 Score: {max_f1} \\nMinimum Binary CrossEntropy Loss: {min_loss} \\nMaximum Validation Accuracy: {max_val_acc} \\nMaximum Validation F1 Score: {max_val_f1} \\nMaximum Validation Binary CrossEntropy Loss: {min_val_loss} \\n\")\n"
   ]
  },
  {
   "cell_type": "code",
   "execution_count": 75,
   "metadata": {},
   "outputs": [],
   "source": [
    "def plot_this(history):\n",
    "    # summarize history for accuracy\n",
    "    plt.plot(history.history['accuracy'])\n",
    "    plt.plot(history.history['val_accuracy'])\n",
    "    plt.title('model accuracy')\n",
    "    plt.xlabel('epoch')\n",
    "    plt.ylabel('accuracy')\n",
    "    plt.legend(['train', 'validation'], loc='upper left')\n",
    "    plt.show()\n",
    "    \n",
    "    # summarize history for f1\n",
    "    plt.plot(history.history['get_f1'])\n",
    "    plt.plot(history.history['val_get_f1'])\n",
    "    plt.title('model f1')\n",
    "    plt.ylabel('f1')\n",
    "    plt.xlabel('epoch')\n",
    "    plt.legend(['train', 'test'], loc='upper left')\n",
    "    plt.show()\n",
    "    \n",
    "    # summarize history for loss\n",
    "    plt.plot(history.history['loss'])\n",
    "    plt.plot(history.history['val_loss'])\n",
    "    plt.title('model loss')\n",
    "    plt.ylabel('loss')\n",
    "    plt.xlabel('epoch')\n",
    "    plt.legend(['train', 'test'], loc='upper left')\n",
    "    plt.show()"
   ]
  },
  {
   "cell_type": "markdown",
   "metadata": {},
   "source": [
    "## Normalization"
   ]
  },
  {
   "cell_type": "code",
   "execution_count": 17,
   "metadata": {},
   "outputs": [
    {
     "data": {
      "text/plain": [
       "Index(['Pregnancies', 'Glucose', 'BloodPressure', 'SkinThickness', 'Insulin',\n",
       "       'BMI', 'DiabetesPedigreeFunction', 'Age', 'Outcome'],\n",
       "      dtype='object')"
      ]
     },
     "execution_count": 17,
     "metadata": {},
     "output_type": "execute_result"
    }
   ],
   "source": [
    "diabetes.columns"
   ]
  },
  {
   "cell_type": "code",
   "execution_count": 18,
   "metadata": {},
   "outputs": [],
   "source": [
    "# normalize the data\n",
    "# we do not want to modify our label column Exited\n",
    "cols_to_norm = ['Pregnancies', 'Glucose', 'BloodPressure', 'SkinThickness', 'Insulin', 'BMI',\n",
    "       'DiabetesPedigreeFunction', 'Age']\n",
    "\n",
    "# copy churn dataframe to churn_norm to do not affect the original data\n",
    "dia_norm = diabetes.copy()\n",
    "\n",
    "# normalize churn_norm dataframe \n",
    "dia_norm[cols_to_norm] = diabetes[cols_to_norm].apply(lambda x: (x - x.min())/ (x.max() - x.min()) )\n",
    "\n",
    "x = dia_norm.drop(columns = 'Outcome')\n",
    "y = dia_norm['Outcome']"
   ]
  },
  {
   "cell_type": "code",
   "execution_count": 21,
   "metadata": {},
   "outputs": [
    {
     "data": {
      "text/html": [
       "<div>\n",
       "<style scoped>\n",
       "    .dataframe tbody tr th:only-of-type {\n",
       "        vertical-align: middle;\n",
       "    }\n",
       "\n",
       "    .dataframe tbody tr th {\n",
       "        vertical-align: top;\n",
       "    }\n",
       "\n",
       "    .dataframe thead th {\n",
       "        text-align: right;\n",
       "    }\n",
       "</style>\n",
       "<table border=\"1\" class=\"dataframe\">\n",
       "  <thead>\n",
       "    <tr style=\"text-align: right;\">\n",
       "      <th></th>\n",
       "      <th>Pregnancies</th>\n",
       "      <th>Glucose</th>\n",
       "      <th>BloodPressure</th>\n",
       "      <th>SkinThickness</th>\n",
       "      <th>Insulin</th>\n",
       "      <th>BMI</th>\n",
       "      <th>DiabetesPedigreeFunction</th>\n",
       "      <th>Age</th>\n",
       "      <th>Outcome</th>\n",
       "    </tr>\n",
       "  </thead>\n",
       "  <tbody>\n",
       "    <tr>\n",
       "      <th>0</th>\n",
       "      <td>0.352941</td>\n",
       "      <td>0.743719</td>\n",
       "      <td>0.590164</td>\n",
       "      <td>0.353535</td>\n",
       "      <td>0.000000</td>\n",
       "      <td>0.500745</td>\n",
       "      <td>0.234415</td>\n",
       "      <td>0.483333</td>\n",
       "      <td>1</td>\n",
       "    </tr>\n",
       "    <tr>\n",
       "      <th>1</th>\n",
       "      <td>0.058824</td>\n",
       "      <td>0.427136</td>\n",
       "      <td>0.540984</td>\n",
       "      <td>0.292929</td>\n",
       "      <td>0.000000</td>\n",
       "      <td>0.396423</td>\n",
       "      <td>0.116567</td>\n",
       "      <td>0.166667</td>\n",
       "      <td>0</td>\n",
       "    </tr>\n",
       "    <tr>\n",
       "      <th>2</th>\n",
       "      <td>0.470588</td>\n",
       "      <td>0.919598</td>\n",
       "      <td>0.524590</td>\n",
       "      <td>0.000000</td>\n",
       "      <td>0.000000</td>\n",
       "      <td>0.347243</td>\n",
       "      <td>0.253629</td>\n",
       "      <td>0.183333</td>\n",
       "      <td>1</td>\n",
       "    </tr>\n",
       "    <tr>\n",
       "      <th>3</th>\n",
       "      <td>0.058824</td>\n",
       "      <td>0.447236</td>\n",
       "      <td>0.540984</td>\n",
       "      <td>0.232323</td>\n",
       "      <td>0.111111</td>\n",
       "      <td>0.418778</td>\n",
       "      <td>0.038002</td>\n",
       "      <td>0.000000</td>\n",
       "      <td>0</td>\n",
       "    </tr>\n",
       "    <tr>\n",
       "      <th>4</th>\n",
       "      <td>0.000000</td>\n",
       "      <td>0.688442</td>\n",
       "      <td>0.327869</td>\n",
       "      <td>0.353535</td>\n",
       "      <td>0.198582</td>\n",
       "      <td>0.642325</td>\n",
       "      <td>0.943638</td>\n",
       "      <td>0.200000</td>\n",
       "      <td>1</td>\n",
       "    </tr>\n",
       "    <tr>\n",
       "      <th>...</th>\n",
       "      <td>...</td>\n",
       "      <td>...</td>\n",
       "      <td>...</td>\n",
       "      <td>...</td>\n",
       "      <td>...</td>\n",
       "      <td>...</td>\n",
       "      <td>...</td>\n",
       "      <td>...</td>\n",
       "      <td>...</td>\n",
       "    </tr>\n",
       "    <tr>\n",
       "      <th>763</th>\n",
       "      <td>0.588235</td>\n",
       "      <td>0.507538</td>\n",
       "      <td>0.622951</td>\n",
       "      <td>0.484848</td>\n",
       "      <td>0.212766</td>\n",
       "      <td>0.490313</td>\n",
       "      <td>0.039710</td>\n",
       "      <td>0.700000</td>\n",
       "      <td>0</td>\n",
       "    </tr>\n",
       "    <tr>\n",
       "      <th>764</th>\n",
       "      <td>0.117647</td>\n",
       "      <td>0.613065</td>\n",
       "      <td>0.573770</td>\n",
       "      <td>0.272727</td>\n",
       "      <td>0.000000</td>\n",
       "      <td>0.548435</td>\n",
       "      <td>0.111870</td>\n",
       "      <td>0.100000</td>\n",
       "      <td>0</td>\n",
       "    </tr>\n",
       "    <tr>\n",
       "      <th>765</th>\n",
       "      <td>0.294118</td>\n",
       "      <td>0.608040</td>\n",
       "      <td>0.590164</td>\n",
       "      <td>0.232323</td>\n",
       "      <td>0.132388</td>\n",
       "      <td>0.390462</td>\n",
       "      <td>0.071307</td>\n",
       "      <td>0.150000</td>\n",
       "      <td>0</td>\n",
       "    </tr>\n",
       "    <tr>\n",
       "      <th>766</th>\n",
       "      <td>0.058824</td>\n",
       "      <td>0.633166</td>\n",
       "      <td>0.491803</td>\n",
       "      <td>0.000000</td>\n",
       "      <td>0.000000</td>\n",
       "      <td>0.448584</td>\n",
       "      <td>0.115713</td>\n",
       "      <td>0.433333</td>\n",
       "      <td>1</td>\n",
       "    </tr>\n",
       "    <tr>\n",
       "      <th>767</th>\n",
       "      <td>0.058824</td>\n",
       "      <td>0.467337</td>\n",
       "      <td>0.573770</td>\n",
       "      <td>0.313131</td>\n",
       "      <td>0.000000</td>\n",
       "      <td>0.453055</td>\n",
       "      <td>0.101196</td>\n",
       "      <td>0.033333</td>\n",
       "      <td>0</td>\n",
       "    </tr>\n",
       "  </tbody>\n",
       "</table>\n",
       "<p>768 rows × 9 columns</p>\n",
       "</div>"
      ],
      "text/plain": [
       "     Pregnancies   Glucose  BloodPressure  SkinThickness   Insulin       BMI  \\\n",
       "0       0.352941  0.743719       0.590164       0.353535  0.000000  0.500745   \n",
       "1       0.058824  0.427136       0.540984       0.292929  0.000000  0.396423   \n",
       "2       0.470588  0.919598       0.524590       0.000000  0.000000  0.347243   \n",
       "3       0.058824  0.447236       0.540984       0.232323  0.111111  0.418778   \n",
       "4       0.000000  0.688442       0.327869       0.353535  0.198582  0.642325   \n",
       "..           ...       ...            ...            ...       ...       ...   \n",
       "763     0.588235  0.507538       0.622951       0.484848  0.212766  0.490313   \n",
       "764     0.117647  0.613065       0.573770       0.272727  0.000000  0.548435   \n",
       "765     0.294118  0.608040       0.590164       0.232323  0.132388  0.390462   \n",
       "766     0.058824  0.633166       0.491803       0.000000  0.000000  0.448584   \n",
       "767     0.058824  0.467337       0.573770       0.313131  0.000000  0.453055   \n",
       "\n",
       "     DiabetesPedigreeFunction       Age  Outcome  \n",
       "0                    0.234415  0.483333        1  \n",
       "1                    0.116567  0.166667        0  \n",
       "2                    0.253629  0.183333        1  \n",
       "3                    0.038002  0.000000        0  \n",
       "4                    0.943638  0.200000        1  \n",
       "..                        ...       ...      ...  \n",
       "763                  0.039710  0.700000        0  \n",
       "764                  0.111870  0.100000        0  \n",
       "765                  0.071307  0.150000        0  \n",
       "766                  0.115713  0.433333        1  \n",
       "767                  0.101196  0.033333        0  \n",
       "\n",
       "[768 rows x 9 columns]"
      ]
     },
     "execution_count": 21,
     "metadata": {},
     "output_type": "execute_result"
    }
   ],
   "source": [
    "dia_norm"
   ]
  },
  {
   "cell_type": "code",
   "execution_count": 137,
   "metadata": {},
   "outputs": [
    {
     "data": {
      "text/html": [
       "<div>\n",
       "<style scoped>\n",
       "    .dataframe tbody tr th:only-of-type {\n",
       "        vertical-align: middle;\n",
       "    }\n",
       "\n",
       "    .dataframe tbody tr th {\n",
       "        vertical-align: top;\n",
       "    }\n",
       "\n",
       "    .dataframe thead th {\n",
       "        text-align: right;\n",
       "    }\n",
       "</style>\n",
       "<table border=\"1\" class=\"dataframe\">\n",
       "  <thead>\n",
       "    <tr style=\"text-align: right;\">\n",
       "      <th></th>\n",
       "      <th>count</th>\n",
       "      <th>mean</th>\n",
       "      <th>std</th>\n",
       "      <th>min</th>\n",
       "      <th>25%</th>\n",
       "      <th>50%</th>\n",
       "      <th>75%</th>\n",
       "      <th>max</th>\n",
       "    </tr>\n",
       "  </thead>\n",
       "  <tbody>\n",
       "    <tr>\n",
       "      <th>Pregnancies</th>\n",
       "      <td>768.0</td>\n",
       "      <td>0.226180</td>\n",
       "      <td>0.198210</td>\n",
       "      <td>0.0</td>\n",
       "      <td>0.058824</td>\n",
       "      <td>0.176471</td>\n",
       "      <td>0.352941</td>\n",
       "      <td>1.0</td>\n",
       "    </tr>\n",
       "    <tr>\n",
       "      <th>Glucose</th>\n",
       "      <td>768.0</td>\n",
       "      <td>0.607510</td>\n",
       "      <td>0.160666</td>\n",
       "      <td>0.0</td>\n",
       "      <td>0.497487</td>\n",
       "      <td>0.587940</td>\n",
       "      <td>0.704774</td>\n",
       "      <td>1.0</td>\n",
       "    </tr>\n",
       "    <tr>\n",
       "      <th>BloodPressure</th>\n",
       "      <td>768.0</td>\n",
       "      <td>0.566438</td>\n",
       "      <td>0.158654</td>\n",
       "      <td>0.0</td>\n",
       "      <td>0.508197</td>\n",
       "      <td>0.590164</td>\n",
       "      <td>0.655738</td>\n",
       "      <td>1.0</td>\n",
       "    </tr>\n",
       "    <tr>\n",
       "      <th>SkinThickness</th>\n",
       "      <td>768.0</td>\n",
       "      <td>0.207439</td>\n",
       "      <td>0.161134</td>\n",
       "      <td>0.0</td>\n",
       "      <td>0.000000</td>\n",
       "      <td>0.232323</td>\n",
       "      <td>0.323232</td>\n",
       "      <td>1.0</td>\n",
       "    </tr>\n",
       "    <tr>\n",
       "      <th>Insulin</th>\n",
       "      <td>768.0</td>\n",
       "      <td>0.094326</td>\n",
       "      <td>0.136222</td>\n",
       "      <td>0.0</td>\n",
       "      <td>0.000000</td>\n",
       "      <td>0.036052</td>\n",
       "      <td>0.150414</td>\n",
       "      <td>1.0</td>\n",
       "    </tr>\n",
       "    <tr>\n",
       "      <th>BMI</th>\n",
       "      <td>768.0</td>\n",
       "      <td>0.476790</td>\n",
       "      <td>0.117499</td>\n",
       "      <td>0.0</td>\n",
       "      <td>0.406855</td>\n",
       "      <td>0.476900</td>\n",
       "      <td>0.545455</td>\n",
       "      <td>1.0</td>\n",
       "    </tr>\n",
       "    <tr>\n",
       "      <th>DiabetesPedigreeFunction</th>\n",
       "      <td>768.0</td>\n",
       "      <td>0.168179</td>\n",
       "      <td>0.141473</td>\n",
       "      <td>0.0</td>\n",
       "      <td>0.070773</td>\n",
       "      <td>0.125747</td>\n",
       "      <td>0.234095</td>\n",
       "      <td>1.0</td>\n",
       "    </tr>\n",
       "    <tr>\n",
       "      <th>Age</th>\n",
       "      <td>768.0</td>\n",
       "      <td>0.204015</td>\n",
       "      <td>0.196004</td>\n",
       "      <td>0.0</td>\n",
       "      <td>0.050000</td>\n",
       "      <td>0.133333</td>\n",
       "      <td>0.333333</td>\n",
       "      <td>1.0</td>\n",
       "    </tr>\n",
       "    <tr>\n",
       "      <th>Outcome</th>\n",
       "      <td>768.0</td>\n",
       "      <td>0.348958</td>\n",
       "      <td>0.476951</td>\n",
       "      <td>0.0</td>\n",
       "      <td>0.000000</td>\n",
       "      <td>0.000000</td>\n",
       "      <td>1.000000</td>\n",
       "      <td>1.0</td>\n",
       "    </tr>\n",
       "  </tbody>\n",
       "</table>\n",
       "</div>"
      ],
      "text/plain": [
       "                          count      mean       std  min       25%       50%  \\\n",
       "Pregnancies               768.0  0.226180  0.198210  0.0  0.058824  0.176471   \n",
       "Glucose                   768.0  0.607510  0.160666  0.0  0.497487  0.587940   \n",
       "BloodPressure             768.0  0.566438  0.158654  0.0  0.508197  0.590164   \n",
       "SkinThickness             768.0  0.207439  0.161134  0.0  0.000000  0.232323   \n",
       "Insulin                   768.0  0.094326  0.136222  0.0  0.000000  0.036052   \n",
       "BMI                       768.0  0.476790  0.117499  0.0  0.406855  0.476900   \n",
       "DiabetesPedigreeFunction  768.0  0.168179  0.141473  0.0  0.070773  0.125747   \n",
       "Age                       768.0  0.204015  0.196004  0.0  0.050000  0.133333   \n",
       "Outcome                   768.0  0.348958  0.476951  0.0  0.000000  0.000000   \n",
       "\n",
       "                               75%  max  \n",
       "Pregnancies               0.352941  1.0  \n",
       "Glucose                   0.704774  1.0  \n",
       "BloodPressure             0.655738  1.0  \n",
       "SkinThickness             0.323232  1.0  \n",
       "Insulin                   0.150414  1.0  \n",
       "BMI                       0.545455  1.0  \n",
       "DiabetesPedigreeFunction  0.234095  1.0  \n",
       "Age                       0.333333  1.0  \n",
       "Outcome                   1.000000  1.0  "
      ]
     },
     "execution_count": 137,
     "metadata": {},
     "output_type": "execute_result"
    }
   ],
   "source": [
    "dia_norm.describe().T"
   ]
  },
  {
   "cell_type": "markdown",
   "metadata": {},
   "source": [
    "## Logistic Regression"
   ]
  },
  {
   "cell_type": "code",
   "execution_count": 23,
   "metadata": {},
   "outputs": [],
   "source": [
    "import numpy as np\n",
    "import pandas as pd\n",
    "from sklearn.model_selection import train_test_split\n",
    "from sklearn.linear_model import LogisticRegression\n",
    "from sklearn.model_selection import GridSearchCV\n",
    "from sklearn.model_selection import cross_val_score\n",
    "from sklearn import preprocessing\n",
    "import warnings"
   ]
  },
  {
   "cell_type": "code",
   "execution_count": 57,
   "metadata": {},
   "outputs": [],
   "source": [
    "min_max_scaler = preprocessing.MinMaxScaler()\n",
    "X_train_minmax = min_max_scaler.fit_transform(x)\n",
    "X_train, X_test, y_train, y_test = train_test_split(X_train_minmax, y, test_size=0.33, random_state=42)"
   ]
  },
  {
   "cell_type": "code",
   "execution_count": 58,
   "metadata": {},
   "outputs": [
    {
     "name": "stdout",
     "output_type": "stream",
     "text": [
      "best parameters:  {'C': 2.5642}\n",
      "best scrores:  0.7645345516847516\n"
     ]
    }
   ],
   "source": [
    "parameters = {'C': np.linspace(0.0001, 100, 40)}\n",
    "grid_search = GridSearchCV(LogisticRegression(max_iter=3000, class_weight={0:0.35, 1:0.65}), parameters, n_jobs=-1)\n",
    "grid_search.fit(X_train, y_train)\n",
    "\n",
    "print('best parameters: ', grid_search.best_params_)\n",
    "print('best scrores: ', grid_search.best_score_)"
   ]
  },
  {
   "cell_type": "code",
   "execution_count": 59,
   "metadata": {},
   "outputs": [
    {
     "data": {
      "text/plain": [
       "LogisticRegression(C=2.5642, class_weight={0: 0.35, 1: 0.65}, dual=False,\n",
       "                   fit_intercept=True, intercept_scaling=1, l1_ratio=None,\n",
       "                   max_iter=3000, multi_class='auto', n_jobs=None, penalty='l2',\n",
       "                   random_state=None, solver='lbfgs', tol=0.0001, verbose=0,\n",
       "                   warm_start=False)"
      ]
     },
     "execution_count": 59,
     "metadata": {},
     "output_type": "execute_result"
    }
   ],
   "source": [
    "lr_clf = LogisticRegression(C=2.5642, max_iter=3000, class_weight={0:0.35, 1:0.65})\n",
    "lr_clf.fit(X_train, y_train)"
   ]
  },
  {
   "cell_type": "code",
   "execution_count": 60,
   "metadata": {},
   "outputs": [
    {
     "data": {
      "text/plain": [
       "0.7086614173228346"
      ]
     },
     "execution_count": 60,
     "metadata": {},
     "output_type": "execute_result"
    }
   ],
   "source": [
    "lr_clf.score(X_test, y_test)"
   ]
  },
  {
   "cell_type": "code",
   "execution_count": 62,
   "metadata": {},
   "outputs": [
    {
     "name": "stdout",
     "output_type": "stream",
     "text": [
      "f1 socre is: 0.6145833333333333 \n"
     ]
    }
   ],
   "source": [
    "from sklearn.metrics import f1_score\n",
    "y_hat = lr_clf.predict(X_test)\n",
    "f1 = f1_score(y_test, y_hat)\n",
    "print (f\"f1 socre is: {f1} \")"
   ]
  },
  {
   "cell_type": "code",
   "execution_count": 26,
   "metadata": {},
   "outputs": [],
   "source": [
    "#lr_clf.predict_proba(x.iloc[[700]]) #FOR PREDICtion"
   ]
  },
  {
   "cell_type": "markdown",
   "metadata": {},
   "source": [
    "## SVM"
   ]
  },
  {
   "cell_type": "code",
   "execution_count": 63,
   "metadata": {},
   "outputs": [
    {
     "name": "stdout",
     "output_type": "stream",
     "text": [
      "best parameters:  {'C': 28.205199999999998}\n",
      "best scrores:  0.7470778602703217\n"
     ]
    }
   ],
   "source": [
    "parameters = {'C': np.linspace(0.0001, 100, 40)}\n",
    "grid_search = GridSearchCV(svm.SVC(probability=True, max_iter=300, class_weight={1: 0.65, 0:0.35}), parameters, n_jobs=-1)\n",
    "grid_search.fit(X_train, y_train)\n",
    "\n",
    "print('best parameters: ', grid_search.best_params_)\n",
    "print('best scrores: ', grid_search.best_score_)"
   ]
  },
  {
   "cell_type": "code",
   "execution_count": 64,
   "metadata": {},
   "outputs": [
    {
     "name": "stdout",
     "output_type": "stream",
     "text": [
      "[LibSVM]"
     ]
    },
    {
     "data": {
      "text/plain": [
       "SVC(C=28.205199999999998, break_ties=False, cache_size=200,\n",
       "    class_weight={0: 0.35, 1: 0.65}, coef0=0.0, decision_function_shape='ovr',\n",
       "    degree=3, gamma='auto', kernel='rbf', max_iter=3000, probability=True,\n",
       "    random_state=None, shrinking=True, tol=0.001, verbose=True)"
      ]
     },
     "execution_count": 64,
     "metadata": {},
     "output_type": "execute_result"
    }
   ],
   "source": [
    "from sklearn import svm\n",
    "\n",
    "clf = svm.SVC(C=28.205199999999998, gamma='auto', probability=True, verbose=True, max_iter=3000, class_weight={1: 0.65, 0:0.35})\n",
    "clf.fit(X_train, y_train)"
   ]
  },
  {
   "cell_type": "code",
   "execution_count": 65,
   "metadata": {},
   "outputs": [
    {
     "data": {
      "text/plain": [
       "0.7125984251968503"
      ]
     },
     "execution_count": 65,
     "metadata": {},
     "output_type": "execute_result"
    }
   ],
   "source": [
    "clf.score(X_test, y_test)"
   ]
  },
  {
   "cell_type": "code",
   "execution_count": 66,
   "metadata": {},
   "outputs": [
    {
     "name": "stdout",
     "output_type": "stream",
     "text": [
      "f1 socre is: 0.6256410256410256 \n"
     ]
    }
   ],
   "source": [
    "from sklearn.metrics import f1_score\n",
    "y_hat = clf.predict(X_test)\n",
    "f1 = f1_score(y_test, y_hat)\n",
    "print (f\"f1 socre is: {f1} \")"
   ]
  },
  {
   "cell_type": "markdown",
   "metadata": {},
   "source": [
    "## Naive Bayes"
   ]
  },
  {
   "cell_type": "code",
   "execution_count": 68,
   "metadata": {},
   "outputs": [],
   "source": [
    "from sklearn.naive_bayes import GaussianNB\n",
    "\n",
    "gnb = GaussianNB()\n",
    "y_pred = gnb.fit(X_train, y_train).predict(X_test)"
   ]
  },
  {
   "cell_type": "code",
   "execution_count": 69,
   "metadata": {},
   "outputs": [
    {
     "name": "stdout",
     "output_type": "stream",
     "text": [
      "f1 socre is: 0.6171428571428572 \n"
     ]
    }
   ],
   "source": [
    "from sklearn.metrics import f1_score\n",
    "f1 = f1_score(y_test, y_pred)\n",
    "print (f\"f1 socre is: {f1} \")"
   ]
  },
  {
   "cell_type": "markdown",
   "metadata": {},
   "source": [
    "## Neural net"
   ]
  },
  {
   "cell_type": "code",
   "execution_count": 128,
   "metadata": {},
   "outputs": [],
   "source": [
    "model2 = tf.keras.Sequential()\n",
    "model2.add(tf.keras.layers.Dense(16, input_dim=x.shape[1], kernel_regularizer=tf.keras.regularizers.l2(0.001)))#activation = 'relu' ))\n",
    "model2.add(tf.keras.layers.ELU(alpha=1))\n",
    "model2.add(tf.keras.layers.Dropout(0.2))\n",
    "model2.add(tf.keras.layers.Dense(16,kernel_regularizer=tf.keras.regularizers.l2(0.001)))# activation='relu'))\n",
    "model2.add(tf.keras.layers.ELU(alpha=1))\n",
    "model2.add(tf.keras.layers.Dropout(0.2))\n",
    "model2.add(tf.keras.layers.Dense(16,kernel_regularizer=tf.keras.regularizers.l2(0.001)))# activation='relu'))\n",
    "model2.add(tf.keras.layers.ELU(alpha=1))\n",
    "model2.add(tf.keras.layers.Dropout(0.2))\n",
    "model2.add(tf.keras.layers.Dense(16,kernel_regularizer=tf.keras.regularizers.l2(0.001)))# activation='relu'))\n",
    "model2.add(tf.keras.layers.ELU(alpha=1))\n",
    "model2.add(tf.keras.layers.Dense(1, activation='sigmoid'))"
   ]
  },
  {
   "cell_type": "code",
   "execution_count": 129,
   "metadata": {},
   "outputs": [],
   "source": [
    "model2.compile(optimizer='rmsprop', loss='MSE', metrics=['accuracy', get_f1])"
   ]
  },
  {
   "cell_type": "code",
   "execution_count": 130,
   "metadata": {},
   "outputs": [
    {
     "name": "stdout",
     "output_type": "stream",
     "text": [
      "WARNING:tensorflow:sample_weight modes were coerced from\n",
      "  ...\n",
      "    to  \n",
      "  ['...']\n",
      "WARNING:tensorflow:sample_weight modes were coerced from\n",
      "  ...\n",
      "    to  \n",
      "  ['...']\n",
      "Train on 411 samples, validate on 103 samples\n",
      "Epoch 1/100\n",
      "411/411 - 2s - loss: 0.1745 - accuracy: 0.5012 - get_f1: 0.4183 - val_loss: 0.1730 - val_accuracy: 0.6408 - val_get_f1: 0.5111\n",
      "Epoch 2/100\n",
      "411/411 - 0s - loss: 0.1708 - accuracy: 0.5134 - get_f1: 0.4087 - val_loss: 0.1708 - val_accuracy: 0.6408 - val_get_f1: 0.4826\n",
      "Epoch 3/100\n",
      "411/411 - 0s - loss: 0.1703 - accuracy: 0.5134 - get_f1: 0.4235 - val_loss: 0.1683 - val_accuracy: 0.6214 - val_get_f1: 0.4867\n",
      "Epoch 4/100\n",
      "411/411 - 0s - loss: 0.1669 - accuracy: 0.5207 - get_f1: 0.3952 - val_loss: 0.1663 - val_accuracy: 0.6214 - val_get_f1: 0.5300\n",
      "Epoch 5/100\n",
      "411/411 - 0s - loss: 0.1650 - accuracy: 0.5134 - get_f1: 0.4510 - val_loss: 0.1643 - val_accuracy: 0.5728 - val_get_f1: 0.5226\n",
      "Epoch 6/100\n",
      "411/411 - 0s - loss: 0.1627 - accuracy: 0.5134 - get_f1: 0.4674 - val_loss: 0.1623 - val_accuracy: 0.5049 - val_get_f1: 0.5323\n",
      "Epoch 7/100\n",
      "411/411 - 0s - loss: 0.1609 - accuracy: 0.4988 - get_f1: 0.4613 - val_loss: 0.1607 - val_accuracy: 0.5922 - val_get_f1: 0.5473\n",
      "Epoch 8/100\n",
      "411/411 - 0s - loss: 0.1587 - accuracy: 0.5693 - get_f1: 0.4894 - val_loss: 0.1587 - val_accuracy: 0.5049 - val_get_f1: 0.5494\n",
      "Epoch 9/100\n",
      "411/411 - 0s - loss: 0.1570 - accuracy: 0.5304 - get_f1: 0.5185 - val_loss: 0.1575 - val_accuracy: 0.6408 - val_get_f1: 0.5648\n",
      "Epoch 10/100\n",
      "411/411 - 0s - loss: 0.1549 - accuracy: 0.5450 - get_f1: 0.4730 - val_loss: 0.1562 - val_accuracy: 0.6408 - val_get_f1: 0.5190\n",
      "Epoch 11/100\n",
      "411/411 - 0s - loss: 0.1552 - accuracy: 0.5839 - get_f1: 0.4840 - val_loss: 0.1548 - val_accuracy: 0.7087 - val_get_f1: 0.5736\n",
      "Epoch 12/100\n",
      "411/411 - 0s - loss: 0.1526 - accuracy: 0.5985 - get_f1: 0.4725 - val_loss: 0.1533 - val_accuracy: 0.7087 - val_get_f1: 0.5736\n",
      "Epoch 13/100\n",
      "411/411 - 0s - loss: 0.1496 - accuracy: 0.5985 - get_f1: 0.5019 - val_loss: 0.1517 - val_accuracy: 0.7087 - val_get_f1: 0.5511\n",
      "Epoch 14/100\n",
      "411/411 - 0s - loss: 0.1485 - accuracy: 0.6180 - get_f1: 0.4818 - val_loss: 0.1500 - val_accuracy: 0.7087 - val_get_f1: 0.5511\n",
      "Epoch 15/100\n",
      "411/411 - 0s - loss: 0.1471 - accuracy: 0.6302 - get_f1: 0.5472 - val_loss: 0.1482 - val_accuracy: 0.7184 - val_get_f1: 0.5926\n",
      "Epoch 16/100\n",
      "411/411 - 0s - loss: 0.1448 - accuracy: 0.6350 - get_f1: 0.4803 - val_loss: 0.1464 - val_accuracy: 0.7282 - val_get_f1: 0.6190\n",
      "Epoch 17/100\n",
      "411/411 - 0s - loss: 0.1410 - accuracy: 0.6618 - get_f1: 0.5560 - val_loss: 0.1449 - val_accuracy: 0.7282 - val_get_f1: 0.6190\n",
      "Epoch 18/100\n",
      "411/411 - 0s - loss: 0.1437 - accuracy: 0.6229 - get_f1: 0.4749 - val_loss: 0.1435 - val_accuracy: 0.7379 - val_get_f1: 0.6327\n",
      "Epoch 19/100\n",
      "411/411 - 0s - loss: 0.1399 - accuracy: 0.6910 - get_f1: 0.5554 - val_loss: 0.1412 - val_accuracy: 0.6699 - val_get_f1: 0.5980\n",
      "Epoch 20/100\n",
      "411/411 - 0s - loss: 0.1393 - accuracy: 0.6521 - get_f1: 0.5463 - val_loss: 0.1401 - val_accuracy: 0.7184 - val_get_f1: 0.6136\n",
      "Epoch 21/100\n",
      "411/411 - 0s - loss: 0.1374 - accuracy: 0.6934 - get_f1: 0.6114 - val_loss: 0.1383 - val_accuracy: 0.7184 - val_get_f1: 0.6181\n",
      "Epoch 22/100\n",
      "411/411 - 0s - loss: 0.1379 - accuracy: 0.6691 - get_f1: 0.5470 - val_loss: 0.1372 - val_accuracy: 0.7282 - val_get_f1: 0.6190\n",
      "Epoch 23/100\n",
      "411/411 - 0s - loss: 0.1370 - accuracy: 0.6642 - get_f1: 0.5217 - val_loss: 0.1351 - val_accuracy: 0.7184 - val_get_f1: 0.6234\n",
      "Epoch 24/100\n",
      "411/411 - 0s - loss: 0.1345 - accuracy: 0.6496 - get_f1: 0.5490 - val_loss: 0.1335 - val_accuracy: 0.6893 - val_get_f1: 0.6035\n",
      "Epoch 25/100\n",
      "411/411 - 0s - loss: 0.1339 - accuracy: 0.6788 - get_f1: 0.6102 - val_loss: 0.1325 - val_accuracy: 0.7282 - val_get_f1: 0.6267\n",
      "Epoch 26/100\n",
      "411/411 - 0s - loss: 0.1305 - accuracy: 0.6691 - get_f1: 0.5846 - val_loss: 0.1304 - val_accuracy: 0.7184 - val_get_f1: 0.6234\n",
      "Epoch 27/100\n",
      "411/411 - 0s - loss: 0.1308 - accuracy: 0.6569 - get_f1: 0.5279 - val_loss: 0.1291 - val_accuracy: 0.7087 - val_get_f1: 0.6166\n",
      "Epoch 28/100\n",
      "411/411 - 0s - loss: 0.1278 - accuracy: 0.7032 - get_f1: 0.6323 - val_loss: 0.1274 - val_accuracy: 0.7087 - val_get_f1: 0.6166\n",
      "Epoch 29/100\n",
      "411/411 - 0s - loss: 0.1261 - accuracy: 0.7007 - get_f1: 0.6097 - val_loss: 0.1259 - val_accuracy: 0.6990 - val_get_f1: 0.5918\n",
      "Epoch 30/100\n",
      "411/411 - 0s - loss: 0.1268 - accuracy: 0.6691 - get_f1: 0.5600 - val_loss: 0.1239 - val_accuracy: 0.7379 - val_get_f1: 0.7018\n",
      "Epoch 31/100\n",
      "411/411 - 0s - loss: 0.1239 - accuracy: 0.6861 - get_f1: 0.5981 - val_loss: 0.1225 - val_accuracy: 0.7476 - val_get_f1: 0.7198\n",
      "Epoch 32/100\n",
      "411/411 - 0s - loss: 0.1219 - accuracy: 0.6959 - get_f1: 0.6233 - val_loss: 0.1213 - val_accuracy: 0.7184 - val_get_f1: 0.6449\n",
      "Epoch 33/100\n",
      "411/411 - 0s - loss: 0.1238 - accuracy: 0.6886 - get_f1: 0.6235 - val_loss: 0.1209 - val_accuracy: 0.6796 - val_get_f1: 0.5476\n",
      "Epoch 34/100\n",
      "411/411 - 0s - loss: 0.1214 - accuracy: 0.7178 - get_f1: 0.5961 - val_loss: 0.1190 - val_accuracy: 0.7087 - val_get_f1: 0.6217\n",
      "Epoch 35/100\n",
      "411/411 - 0s - loss: 0.1221 - accuracy: 0.6813 - get_f1: 0.5944 - val_loss: 0.1182 - val_accuracy: 0.6990 - val_get_f1: 0.5875\n",
      "Epoch 36/100\n",
      "411/411 - 0s - loss: 0.1205 - accuracy: 0.7178 - get_f1: 0.6282 - val_loss: 0.1163 - val_accuracy: 0.7282 - val_get_f1: 0.6667\n",
      "Epoch 37/100\n",
      "411/411 - 0s - loss: 0.1186 - accuracy: 0.7299 - get_f1: 0.6535 - val_loss: 0.1146 - val_accuracy: 0.7184 - val_get_f1: 0.6934\n",
      "Epoch 38/100\n",
      "411/411 - 0s - loss: 0.1154 - accuracy: 0.7007 - get_f1: 0.6325 - val_loss: 0.1134 - val_accuracy: 0.7476 - val_get_f1: 0.7083\n",
      "Epoch 39/100\n",
      "411/411 - 0s - loss: 0.1177 - accuracy: 0.7007 - get_f1: 0.6096 - val_loss: 0.1131 - val_accuracy: 0.6990 - val_get_f1: 0.6042\n",
      "Epoch 40/100\n",
      "411/411 - 0s - loss: 0.1122 - accuracy: 0.7324 - get_f1: 0.6550 - val_loss: 0.1125 - val_accuracy: 0.7087 - val_get_f1: 0.5943\n",
      "Epoch 41/100\n",
      "411/411 - 0s - loss: 0.1151 - accuracy: 0.7299 - get_f1: 0.6545 - val_loss: 0.1123 - val_accuracy: 0.7379 - val_get_f1: 0.6173\n",
      "Epoch 42/100\n",
      "411/411 - 0s - loss: 0.1129 - accuracy: 0.7397 - get_f1: 0.6427 - val_loss: 0.1109 - val_accuracy: 0.7379 - val_get_f1: 0.6173\n",
      "Epoch 43/100\n",
      "411/411 - 0s - loss: 0.1127 - accuracy: 0.7518 - get_f1: 0.6539 - val_loss: 0.1104 - val_accuracy: 0.7379 - val_get_f1: 0.6173\n",
      "Epoch 44/100\n",
      "411/411 - 0s - loss: 0.1146 - accuracy: 0.7226 - get_f1: 0.6102 - val_loss: 0.1076 - val_accuracy: 0.7379 - val_get_f1: 0.6970\n",
      "Epoch 45/100\n",
      "411/411 - 0s - loss: 0.1083 - accuracy: 0.7348 - get_f1: 0.6385 - val_loss: 0.1068 - val_accuracy: 0.7282 - val_get_f1: 0.6880\n",
      "Epoch 46/100\n",
      "411/411 - 0s - loss: 0.1125 - accuracy: 0.7178 - get_f1: 0.6429 - val_loss: 0.1060 - val_accuracy: 0.7282 - val_get_f1: 0.6779\n",
      "Epoch 47/100\n",
      "411/411 - 0s - loss: 0.1100 - accuracy: 0.7299 - get_f1: 0.6223 - val_loss: 0.1058 - val_accuracy: 0.7282 - val_get_f1: 0.6615\n",
      "Epoch 48/100\n",
      "411/411 - 0s - loss: 0.1087 - accuracy: 0.7372 - get_f1: 0.6779 - val_loss: 0.1054 - val_accuracy: 0.7476 - val_get_f1: 0.6600\n",
      "Epoch 49/100\n",
      "411/411 - 0s - loss: 0.1108 - accuracy: 0.7518 - get_f1: 0.6503 - val_loss: 0.1046 - val_accuracy: 0.7282 - val_get_f1: 0.6433\n",
      "Epoch 50/100\n",
      "411/411 - 0s - loss: 0.1036 - accuracy: 0.7591 - get_f1: 0.6829 - val_loss: 0.1030 - val_accuracy: 0.7282 - val_get_f1: 0.6779\n",
      "Epoch 51/100\n",
      "411/411 - 0s - loss: 0.1085 - accuracy: 0.7324 - get_f1: 0.6543 - val_loss: 0.1026 - val_accuracy: 0.7379 - val_get_f1: 0.6993\n",
      "Epoch 52/100\n",
      "411/411 - 0s - loss: 0.1060 - accuracy: 0.7348 - get_f1: 0.6722 - val_loss: 0.1022 - val_accuracy: 0.7379 - val_get_f1: 0.6847\n",
      "Epoch 53/100\n",
      "411/411 - 0s - loss: 0.1078 - accuracy: 0.7299 - get_f1: 0.6513 - val_loss: 0.1019 - val_accuracy: 0.7184 - val_get_f1: 0.6526\n",
      "Epoch 54/100\n",
      "411/411 - 0s - loss: 0.1055 - accuracy: 0.7470 - get_f1: 0.6951 - val_loss: 0.1033 - val_accuracy: 0.7573 - val_get_f1: 0.6509\n",
      "Epoch 55/100\n",
      "411/411 - 0s - loss: 0.1075 - accuracy: 0.7518 - get_f1: 0.6678 - val_loss: 0.1018 - val_accuracy: 0.7476 - val_get_f1: 0.6600\n",
      "Epoch 56/100\n",
      "411/411 - 0s - loss: 0.1077 - accuracy: 0.7202 - get_f1: 0.6150 - val_loss: 0.1005 - val_accuracy: 0.7282 - val_get_f1: 0.6615\n",
      "Epoch 57/100\n",
      "411/411 - 0s - loss: 0.1044 - accuracy: 0.7299 - get_f1: 0.6539 - val_loss: 0.0998 - val_accuracy: 0.7476 - val_get_f1: 0.6961\n",
      "Epoch 58/100\n",
      "411/411 - 0s - loss: 0.1053 - accuracy: 0.7372 - get_f1: 0.6720 - val_loss: 0.0996 - val_accuracy: 0.7379 - val_get_f1: 0.6820\n",
      "Epoch 59/100\n",
      "411/411 - 0s - loss: 0.1047 - accuracy: 0.7324 - get_f1: 0.6148 - val_loss: 0.0993 - val_accuracy: 0.7379 - val_get_f1: 0.6847\n",
      "Epoch 60/100\n",
      "411/411 - 0s - loss: 0.1041 - accuracy: 0.7421 - get_f1: 0.6728 - val_loss: 0.0988 - val_accuracy: 0.7476 - val_get_f1: 0.6961\n",
      "Epoch 61/100\n",
      "411/411 - 0s - loss: 0.1014 - accuracy: 0.7616 - get_f1: 0.6836 - val_loss: 0.0985 - val_accuracy: 0.7379 - val_get_f1: 0.6874\n",
      "Epoch 62/100\n",
      "411/411 - 0s - loss: 0.1022 - accuracy: 0.7299 - get_f1: 0.6449 - val_loss: 0.0989 - val_accuracy: 0.7573 - val_get_f1: 0.6933\n",
      "Epoch 63/100\n",
      "411/411 - 0s - loss: 0.1039 - accuracy: 0.7299 - get_f1: 0.6362 - val_loss: 0.0981 - val_accuracy: 0.7573 - val_get_f1: 0.7053\n",
      "Epoch 64/100\n",
      "411/411 - 0s - loss: 0.0987 - accuracy: 0.7567 - get_f1: 0.6829 - val_loss: 0.0979 - val_accuracy: 0.7476 - val_get_f1: 0.6889\n",
      "Epoch 65/100\n",
      "411/411 - 0s - loss: 0.0993 - accuracy: 0.7591 - get_f1: 0.6598 - val_loss: 0.0972 - val_accuracy: 0.7476 - val_get_f1: 0.6961\n",
      "Epoch 66/100\n",
      "411/411 - 0s - loss: 0.1012 - accuracy: 0.7445 - get_f1: 0.6585 - val_loss: 0.0970 - val_accuracy: 0.7573 - val_get_f1: 0.7053\n",
      "Epoch 67/100\n",
      "411/411 - 0s - loss: 0.0996 - accuracy: 0.7494 - get_f1: 0.6636 - val_loss: 0.0967 - val_accuracy: 0.7379 - val_get_f1: 0.6874\n",
      "Epoch 68/100\n",
      "411/411 - 0s - loss: 0.0957 - accuracy: 0.7591 - get_f1: 0.6829 - val_loss: 0.0967 - val_accuracy: 0.7476 - val_get_f1: 0.6835\n",
      "Epoch 69/100\n",
      "411/411 - 0s - loss: 0.0985 - accuracy: 0.7494 - get_f1: 0.6459 - val_loss: 0.0975 - val_accuracy: 0.7670 - val_get_f1: 0.6750\n",
      "Epoch 70/100\n",
      "411/411 - 0s - loss: 0.0973 - accuracy: 0.7518 - get_f1: 0.6762 - val_loss: 0.0976 - val_accuracy: 0.7573 - val_get_f1: 0.6454\n",
      "Epoch 71/100\n",
      "411/411 - 0s - loss: 0.0994 - accuracy: 0.7470 - get_f1: 0.6558 - val_loss: 0.0956 - val_accuracy: 0.7573 - val_get_f1: 0.7009\n",
      "Epoch 72/100\n",
      "411/411 - 0s - loss: 0.0961 - accuracy: 0.7835 - get_f1: 0.6895 - val_loss: 0.0954 - val_accuracy: 0.7379 - val_get_f1: 0.6874\n",
      "Epoch 73/100\n",
      "411/411 - 0s - loss: 0.0958 - accuracy: 0.7397 - get_f1: 0.6593 - val_loss: 0.0961 - val_accuracy: 0.7476 - val_get_f1: 0.6520\n",
      "Epoch 74/100\n",
      "411/411 - 0s - loss: 0.1002 - accuracy: 0.7348 - get_f1: 0.6170 - val_loss: 0.0946 - val_accuracy: 0.7379 - val_get_f1: 0.6874\n",
      "Epoch 75/100\n",
      "411/411 - 0s - loss: 0.0995 - accuracy: 0.7299 - get_f1: 0.6254 - val_loss: 0.0947 - val_accuracy: 0.7670 - val_get_f1: 0.7124\n",
      "Epoch 76/100\n",
      "411/411 - 0s - loss: 0.0937 - accuracy: 0.7859 - get_f1: 0.7092 - val_loss: 0.0946 - val_accuracy: 0.7670 - val_get_f1: 0.7081\n",
      "Epoch 77/100\n",
      "411/411 - 0s - loss: 0.1007 - accuracy: 0.7372 - get_f1: 0.6297 - val_loss: 0.0946 - val_accuracy: 0.7767 - val_get_f1: 0.7157\n",
      "Epoch 78/100\n",
      "411/411 - 0s - loss: 0.0976 - accuracy: 0.7591 - get_f1: 0.6838 - val_loss: 0.0940 - val_accuracy: 0.7379 - val_get_f1: 0.6874\n",
      "Epoch 79/100\n",
      "411/411 - 0s - loss: 0.0982 - accuracy: 0.7324 - get_f1: 0.6537 - val_loss: 0.0939 - val_accuracy: 0.7476 - val_get_f1: 0.6961\n",
      "Epoch 80/100\n",
      "411/411 - 0s - loss: 0.0964 - accuracy: 0.7251 - get_f1: 0.5994 - val_loss: 0.0969 - val_accuracy: 0.7573 - val_get_f1: 0.6395\n",
      "Epoch 81/100\n",
      "411/411 - 0s - loss: 0.0925 - accuracy: 0.7640 - get_f1: 0.6805 - val_loss: 0.0936 - val_accuracy: 0.7767 - val_get_f1: 0.7198\n",
      "Epoch 82/100\n",
      "411/411 - 0s - loss: 0.0952 - accuracy: 0.7762 - get_f1: 0.7099 - val_loss: 0.0934 - val_accuracy: 0.7282 - val_get_f1: 0.6806\n",
      "Epoch 83/100\n",
      "411/411 - 0s - loss: 0.0975 - accuracy: 0.7445 - get_f1: 0.6582 - val_loss: 0.0934 - val_accuracy: 0.7282 - val_get_f1: 0.6806\n",
      "Epoch 84/100\n",
      "411/411 - 0s - loss: 0.0974 - accuracy: 0.7567 - get_f1: 0.6894 - val_loss: 0.0933 - val_accuracy: 0.7282 - val_get_f1: 0.6806\n",
      "Epoch 85/100\n",
      "411/411 - 0s - loss: 0.0976 - accuracy: 0.7445 - get_f1: 0.6654 - val_loss: 0.0932 - val_accuracy: 0.7282 - val_get_f1: 0.6806\n",
      "Epoch 86/100\n",
      "411/411 - 0s - loss: 0.0930 - accuracy: 0.7494 - get_f1: 0.6816 - val_loss: 0.0945 - val_accuracy: 0.7573 - val_get_f1: 0.6681\n",
      "Epoch 87/100\n",
      "411/411 - 0s - loss: 0.0983 - accuracy: 0.7543 - get_f1: 0.6349 - val_loss: 0.0929 - val_accuracy: 0.7379 - val_get_f1: 0.6893\n",
      "Epoch 88/100\n",
      "411/411 - 0s - loss: 0.0959 - accuracy: 0.7616 - get_f1: 0.6859 - val_loss: 0.0935 - val_accuracy: 0.7573 - val_get_f1: 0.6780\n",
      "Epoch 89/100\n",
      "411/411 - 0s - loss: 0.0910 - accuracy: 0.7737 - get_f1: 0.6843 - val_loss: 0.0932 - val_accuracy: 0.7476 - val_get_f1: 0.6647\n",
      "Epoch 90/100\n",
      "411/411 - 0s - loss: 0.0943 - accuracy: 0.7616 - get_f1: 0.6678 - val_loss: 0.0937 - val_accuracy: 0.7573 - val_get_f1: 0.6681\n",
      "Epoch 91/100\n",
      "411/411 - 0s - loss: 0.0937 - accuracy: 0.7786 - get_f1: 0.6902 - val_loss: 0.0924 - val_accuracy: 0.7961 - val_get_f1: 0.7353\n",
      "Epoch 92/100\n",
      "411/411 - 0s - loss: 0.0946 - accuracy: 0.7616 - get_f1: 0.6829 - val_loss: 0.0942 - val_accuracy: 0.7573 - val_get_f1: 0.6681\n",
      "Epoch 93/100\n",
      "411/411 - 0s - loss: 0.0925 - accuracy: 0.7713 - get_f1: 0.6903 - val_loss: 0.0940 - val_accuracy: 0.7573 - val_get_f1: 0.6681\n",
      "Epoch 94/100\n",
      "411/411 - 0s - loss: 0.0921 - accuracy: 0.7762 - get_f1: 0.7050 - val_loss: 0.0920 - val_accuracy: 0.7864 - val_get_f1: 0.7274\n",
      "Epoch 95/100\n",
      "411/411 - 0s - loss: 0.0891 - accuracy: 0.7543 - get_f1: 0.6783 - val_loss: 0.0933 - val_accuracy: 0.7573 - val_get_f1: 0.6681\n",
      "Epoch 96/100\n",
      "411/411 - 0s - loss: 0.0970 - accuracy: 0.7421 - get_f1: 0.6480 - val_loss: 0.0916 - val_accuracy: 0.7670 - val_get_f1: 0.6952\n",
      "Epoch 97/100\n",
      "411/411 - 0s - loss: 0.0926 - accuracy: 0.7616 - get_f1: 0.6688 - val_loss: 0.0917 - val_accuracy: 0.7670 - val_get_f1: 0.6908\n",
      "Epoch 98/100\n",
      "411/411 - 0s - loss: 0.0921 - accuracy: 0.7664 - get_f1: 0.6802 - val_loss: 0.0912 - val_accuracy: 0.7379 - val_get_f1: 0.6874\n",
      "Epoch 99/100\n",
      "411/411 - 0s - loss: 0.0922 - accuracy: 0.7567 - get_f1: 0.6867 - val_loss: 0.0916 - val_accuracy: 0.7476 - val_get_f1: 0.6647\n",
      "Epoch 100/100\n",
      "411/411 - 0s - loss: 0.0940 - accuracy: 0.7518 - get_f1: 0.6615 - val_loss: 0.0911 - val_accuracy: 0.7282 - val_get_f1: 0.6806\n"
     ]
    }
   ],
   "source": [
    "history2 = model2.fit(X_train, y_train, validation_split=0.20, batch_size=64, workers=-1, epochs=100, verbose=2, class_weight={0:0.35, 1:0.65})"
   ]
  },
  {
   "cell_type": "code",
   "execution_count": 131,
   "metadata": {},
   "outputs": [
    {
     "name": "stdout",
     "output_type": "stream",
     "text": [
      "Maximum Accuracy: 0.7858880758285522 \n",
      "Maximum F1 Score: 0.709932267665863 \n",
      "Minimum Binary CrossEntropy Loss: 0.08910478377791797 \n",
      "Maximum Validation Accuracy: 0.7961165308952332 \n",
      "Maximum Validation F1 Score: 0.7352941036224365 \n",
      "Maximum Validation Binary CrossEntropy Loss: 0.09106832598019572 \n",
      "\n"
     ]
    },
    {
     "data": {
      "image/png": "[encoded data removed]",
      "text/plain": [
       "<Figure size 720x360 with 1 Axes>"
      ]
     },
     "metadata": {},
     "output_type": "display_data"
    },
    {
     "data": {
      "image/png": "[encoded data removed]",
      "text/plain": [
       "<Figure size 720x360 with 1 Axes>"
      ]
     },
     "metadata": {},
     "output_type": "display_data"
    },
    {
     "data": {
      "image/png": "[encoded data removed]",
      "text/plain": [
       "<Figure size 720x360 with 1 Axes>"
      ]
     },
     "metadata": {},
     "output_type": "display_data"
    }
   ],
   "source": [
    "max_metric(history2)\n",
    "plot_this(history2)"
   ]
  },
  {
   "cell_type": "code",
   "execution_count": 132,
   "metadata": {},
   "outputs": [],
   "source": [
    "# model2.save(\"model2.h5\")"
   ]
  },
  {
   "cell_type": "code",
   "execution_count": 133,
   "metadata": {},
   "outputs": [],
   "source": [
    "# from  tensorflow.keras.utils import plot_model\n",
    "# plot_model(model2, to_file='model.png', show_shapes=True, rankdir=\"LR\", expand_nested=False ,dpi=200)"
   ]
  },
  {
   "cell_type": "code",
   "execution_count": 135,
   "metadata": {},
   "outputs": [
    {
     "name": "stdout",
     "output_type": "stream",
     "text": [
      "254/254 [==============================] - 0s 55us/sample\n",
      "f1 socre is: 0.6197183098591549 \n"
     ]
    }
   ],
   "source": [
    "from sklearn.metrics import f1_score\n",
    "\n",
    "y_pred = model2.predict(X_test, verbose=1)\n",
    "y_pred = y_pred>0.5\n",
    "f1 = f1_score(y_test, y_pred)\n",
    "print (f\"f1 socre is: {f1} \")"
   ]
  },
  {
   "cell_type": "code",
   "execution_count": 107,
   "metadata": {},
   "outputs": [],
   "source": [
    "# apply(lambda x: (x - x.min())/ (x.max() - x.min()) \n",
    "# normalize the data\n",
    "# we do not want to modify our label column Exited\n",
    "# Pregnancies                  0.000\n",
    "# Glucose                      0.000\n",
    "# BloodPressure                0.000\n",
    "# SkinThickness                0.000\n",
    "# Insulin                      0.000\n",
    "# BMI                          0.000\n",
    "# DiabetesPedigreeFunction     0.078\n",
    "# Age                         21.000\n",
    "\n",
    "\n",
    "# Pregnancies                  17.00\n",
    "# Glucose                     199.00\n",
    "# BloodPressure               122.00\n",
    "# SkinThickness                99.00\n",
    "# Insulin                     846.00\n",
    "# BMI                          67.10\n",
    "# DiabetesPedigreeFunction      2.42\n",
    "# Age                          81.00\n",
    "\n",
    "\n",
    "## Sorry for hardcoding, i wll fix it ASAP!\n",
    "\n",
    "def norm_a_data(data):\n",
    "    data[0] = (data[0] - 0)    / (17 - 0)\n",
    "    data[1] = (data[1] - 0)    / (199 - 0)\n",
    "    data[2] = (data[2] - 0)    / (122 - 0)\n",
    "    data[3] = (data[3] - 0)    / (99 - 0)\n",
    "    data[4] = (data[4] - 0)    / (846 - 0)\n",
    "    data[5] = (data[5] - 0)    / (67 - 0)\n",
    "    data[6] = (data[6] - 0.078) / (2 - 0.078)\n",
    "    data[7] = (data[7] - 21)    / (81 - 21)\n",
    "    return data[:]"
   ]
  },
  {
   "cell_type": "code",
   "execution_count": 44,
   "metadata": {},
   "outputs": [
    {
     "data": {
      "text/plain": [
       "array([[0.9581282]], dtype=float32)"
      ]
     },
     "execution_count": 44,
     "metadata": {},
     "output_type": "execute_result"
    }
   ],
   "source": [
    "my_data = [6, 148, 72, 35, 0, 33.6, 0.627, 50]\n",
    "my_data = diabetes.iloc[245].values[:8]\n",
    "my_data = norm_a_data(my_data)\n",
    "my_data=np.array(my_data)\n",
    "my_data = my_data.reshape(8,1)\n",
    "# pd.DataFrame(my_data, columns=['Pregnancies', 'Glucose', 'BloodPressure', 'SkinThickness', 'Insulin', 'BMI',\n",
    "#        'DiabetesPedigreeFunction', 'Age'])\n",
    "model2.predict(my_data.transpose())"
   ]
  },
  {
   "cell_type": "code",
   "execution_count": 45,
   "metadata": {},
   "outputs": [
    {
     "data": {
      "text/plain": [
       "1.0"
      ]
     },
     "execution_count": 45,
     "metadata": {},
     "output_type": "execute_result"
    }
   ],
   "source": [
    "diabetes.iloc[245].values[-1]"
   ]
  }
 ],
 "metadata": {
  "kernelspec": {
   "display_name": "Python 3",
   "language": "python",
   "name": "python3"
  },
  "language_info": {
   "codemirror_mode": {
    "name": "ipython",
    "version": 3
   },
   "file_extension": ".py",
   "mimetype": "text/x-python",
   "name": "python",
   "nbconvert_exporter": "python",
   "pygments_lexer": "ipython3",
   "version": "3.7.7"
  }
 },
 "nbformat": 4,
 "nbformat_minor": 4
}
